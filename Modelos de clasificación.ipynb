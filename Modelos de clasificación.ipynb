{
 "cells": [
  {
   "cell_type": "markdown",
   "id": "bb51facd",
   "metadata": {},
   "source": [
    "# Modelos de clasificación\n",
    "\n",
    "Nicole Lastra Quiroz - Agosto 2022\n",
    "\n",
    "----------"
   ]
  },
  {
   "cell_type": "markdown",
   "id": "8ae1c44f",
   "metadata": {},
   "source": [
    "## Importación de librerías"
   ]
  },
  {
   "cell_type": "code",
   "execution_count": 1,
   "id": "5370dde7",
   "metadata": {},
   "outputs": [],
   "source": [
    "# Para tratamiento de los datos\n",
    "# ------------------------------------------------------------------------------\n",
    "import numpy as np\n",
    "import pandas as pd\n",
    "import pingouin as pg\n",
    "import statsmodels.api as sm\n",
    "import multiprocessing\n",
    "\n",
    "# Para gráficos\n",
    "# ------------------------------------------------------------------------------\n",
    "import matplotlib.pyplot as plt\n",
    "from matplotlib.colors import ListedColormap\n",
    "from matplotlib.legend_handler import HandlerLine2D\n",
    "import seaborn as sns\n",
    "\n",
    "\n",
    "#Para preprocesado y modelado\n",
    "# ------------------------------------------------------------------------------\n",
    "from pandas.core.series import Series\n",
    "from sklearn.datasets import load_boston\n",
    "from sklearn.tree import DecisionTreeClassifier\n",
    "from sklearn.model_selection import train_test_split\n",
    "from sklearn.tree import DecisionTreeClassifier\n",
    "from sklearn.tree import DecisionTreeRegressor\n",
    "from sklearn.tree import plot_tree\n",
    "from sklearn.tree import export_graphviz\n",
    "from sklearn.tree import export_text\n",
    "from pandas.core.series import Series\n",
    "from sklearn.datasets import load_boston\n",
    "from sklearn.preprocessing import OneHotEncoder\n",
    "from sklearn.model_selection import cross_val_score\n",
    "from sklearn.model_selection import GridSearchCV\n",
    "from sklearn.model_selection import KFold\n",
    "from sklearn.model_selection import ParameterGrid\n",
    "from sklearn.model_selection import RepeatedKFold\n",
    "from sklearn.model_selection import train_test_split\n",
    "from sklearn.inspection import permutation_importance\n",
    "from sklearn.compose import ColumnTransformer\n",
    "from sklearn.metrics import accuracy_score\n",
    "from sklearn.metrics import confusion_matrix\n",
    "from sklearn.ensemble import GradientBoostingClassifier\n",
    "from sklearn.ensemble import GradientBoostingRegressor\n",
    "from sklearn.ensemble import RandomForestClassifier\n",
    "from sklearn.metrics import accuracy_score\n",
    "from sklearn.metrics import classification_report\n",
    "from sklearn.metrics import confusion_matrix\n",
    "from sklearn.metrics import roc_curve, auc\n",
    "from sklearn.compose import ColumnTransformer\n",
    "from sklearn.metrics import mean_squared_error\n",
    "from sklearn.metrics import plot_confusion_matrix\n",
    "from sklearn.preprocessing import OneHotEncoder\n",
    "from sklearn.inspection import permutation_importance\n",
    "\n",
    "# Para configuración warnings\n",
    "# ------------------------------------------------------------------------------\n",
    "import warnings\n",
    "warnings.filterwarnings('ignore')"
   ]
  },
  {
   "cell_type": "markdown",
   "id": "b059a9a2",
   "metadata": {},
   "source": [
    "## Importación de datos"
   ]
  },
  {
   "cell_type": "code",
   "execution_count": 2,
   "id": "c8aee5eb",
   "metadata": {},
   "outputs": [],
   "source": [
    "# Importación de datos:\n",
    "# ------------------------------------------------------------------------------\n",
    "alfa = pd.read_excel('Base_de_Datos_completa.xls', sheet_name='Alfareria')  "
   ]
  },
  {
   "cell_type": "markdown",
   "id": "6b87bc5e",
   "metadata": {},
   "source": [
    "## Visualización de los datos "
   ]
  },
  {
   "cell_type": "code",
   "execution_count": 3,
   "id": "84983fa6",
   "metadata": {},
   "outputs": [
    {
     "data": {
      "text/html": [
       "<div>\n",
       "<style scoped>\n",
       "    .dataframe tbody tr th:only-of-type {\n",
       "        vertical-align: middle;\n",
       "    }\n",
       "\n",
       "    .dataframe tbody tr th {\n",
       "        vertical-align: top;\n",
       "    }\n",
       "\n",
       "    .dataframe thead th {\n",
       "        text-align: right;\n",
       "    }\n",
       "</style>\n",
       "<table border=\"1\" class=\"dataframe\">\n",
       "  <thead>\n",
       "    <tr style=\"text-align: right;\">\n",
       "      <th></th>\n",
       "      <th>Al</th>\n",
       "      <th>Fe</th>\n",
       "      <th>Mg</th>\n",
       "      <th>Ca</th>\n",
       "      <th>Na</th>\n",
       "      <th>Sitio</th>\n",
       "    </tr>\n",
       "  </thead>\n",
       "  <tbody>\n",
       "    <tr>\n",
       "      <th>0</th>\n",
       "      <td>14.4</td>\n",
       "      <td>7.00</td>\n",
       "      <td>4.30</td>\n",
       "      <td>0.15</td>\n",
       "      <td>0.51</td>\n",
       "      <td>L</td>\n",
       "    </tr>\n",
       "    <tr>\n",
       "      <th>1</th>\n",
       "      <td>13.8</td>\n",
       "      <td>7.08</td>\n",
       "      <td>3.43</td>\n",
       "      <td>0.12</td>\n",
       "      <td>0.17</td>\n",
       "      <td>L</td>\n",
       "    </tr>\n",
       "    <tr>\n",
       "      <th>2</th>\n",
       "      <td>14.6</td>\n",
       "      <td>7.09</td>\n",
       "      <td>3.88</td>\n",
       "      <td>0.13</td>\n",
       "      <td>0.20</td>\n",
       "      <td>L</td>\n",
       "    </tr>\n",
       "    <tr>\n",
       "      <th>3</th>\n",
       "      <td>11.5</td>\n",
       "      <td>6.37</td>\n",
       "      <td>5.64</td>\n",
       "      <td>0.16</td>\n",
       "      <td>0.14</td>\n",
       "      <td>L</td>\n",
       "    </tr>\n",
       "    <tr>\n",
       "      <th>4</th>\n",
       "      <td>13.8</td>\n",
       "      <td>7.06</td>\n",
       "      <td>5.34</td>\n",
       "      <td>0.20</td>\n",
       "      <td>0.20</td>\n",
       "      <td>L</td>\n",
       "    </tr>\n",
       "    <tr>\n",
       "      <th>5</th>\n",
       "      <td>10.9</td>\n",
       "      <td>6.26</td>\n",
       "      <td>3.47</td>\n",
       "      <td>0.17</td>\n",
       "      <td>0.22</td>\n",
       "      <td>L</td>\n",
       "    </tr>\n",
       "    <tr>\n",
       "      <th>6</th>\n",
       "      <td>10.1</td>\n",
       "      <td>4.26</td>\n",
       "      <td>4.26</td>\n",
       "      <td>0.20</td>\n",
       "      <td>0.18</td>\n",
       "      <td>L</td>\n",
       "    </tr>\n",
       "  </tbody>\n",
       "</table>\n",
       "</div>"
      ],
      "text/plain": [
       "     Al    Fe    Mg    Ca    Na Sitio\n",
       "0  14.4  7.00  4.30  0.15  0.51     L\n",
       "1  13.8  7.08  3.43  0.12  0.17     L\n",
       "2  14.6  7.09  3.88  0.13  0.20     L\n",
       "3  11.5  6.37  5.64  0.16  0.14     L\n",
       "4  13.8  7.06  5.34  0.20  0.20     L\n",
       "5  10.9  6.26  3.47  0.17  0.22     L\n",
       "6  10.1  4.26  4.26  0.20  0.18     L"
      ]
     },
     "execution_count": 3,
     "metadata": {},
     "output_type": "execute_result"
    }
   ],
   "source": [
    "# Visualización de primeras 7 filas:\n",
    "# ------------------------------------------------------------------------------\n",
    "alfa.head(7)"
   ]
  },
  {
   "cell_type": "code",
   "execution_count": 4,
   "id": "8ef86e43",
   "metadata": {},
   "outputs": [
    {
     "name": "stdout",
     "output_type": "stream",
     "text": [
      "<class 'pandas.core.frame.DataFrame'>\n",
      "RangeIndex: 26 entries, 0 to 25\n",
      "Data columns (total 6 columns):\n",
      " #   Column  Non-Null Count  Dtype  \n",
      "---  ------  --------------  -----  \n",
      " 0   Al      26 non-null     float64\n",
      " 1   Fe      26 non-null     float64\n",
      " 2   Mg      26 non-null     float64\n",
      " 3   Ca      26 non-null     float64\n",
      " 4   Na      26 non-null     float64\n",
      " 5   Sitio   26 non-null     object \n",
      "dtypes: float64(5), object(1)\n",
      "memory usage: 1.3+ KB\n"
     ]
    }
   ],
   "source": [
    "# Información de las variables:\n",
    "# ------------------------------------------------------------------------------\n",
    "alfa.info()"
   ]
  },
  {
   "cell_type": "markdown",
   "id": "017addfc",
   "metadata": {},
   "source": [
    "**Hallazgos Principales:**\n",
    "- No existen valores nulos en ninguna de las variables.\n",
    "- Las variables relativas a elementos químicos son del numéricas.\n",
    "- La variable `Sitio` es categórica."
   ]
  },
  {
   "cell_type": "code",
   "execution_count": 5,
   "id": "92be5605",
   "metadata": {},
   "outputs": [
    {
     "data": {
      "text/html": [
       "<div>\n",
       "<style scoped>\n",
       "    .dataframe tbody tr th:only-of-type {\n",
       "        vertical-align: middle;\n",
       "    }\n",
       "\n",
       "    .dataframe tbody tr th {\n",
       "        vertical-align: top;\n",
       "    }\n",
       "\n",
       "    .dataframe thead th {\n",
       "        text-align: right;\n",
       "    }\n",
       "</style>\n",
       "<table border=\"1\" class=\"dataframe\">\n",
       "  <thead>\n",
       "    <tr style=\"text-align: right;\">\n",
       "      <th></th>\n",
       "      <th>Al</th>\n",
       "      <th>Fe</th>\n",
       "      <th>Mg</th>\n",
       "      <th>Ca</th>\n",
       "      <th>Na</th>\n",
       "    </tr>\n",
       "  </thead>\n",
       "  <tbody>\n",
       "    <tr>\n",
       "      <th>count</th>\n",
       "      <td>26.000000</td>\n",
       "      <td>26.000000</td>\n",
       "      <td>26.000000</td>\n",
       "      <td>26.000000</td>\n",
       "      <td>26.000000</td>\n",
       "    </tr>\n",
       "    <tr>\n",
       "      <th>mean</th>\n",
       "      <td>14.492308</td>\n",
       "      <td>4.467692</td>\n",
       "      <td>3.141538</td>\n",
       "      <td>0.146538</td>\n",
       "      <td>0.158462</td>\n",
       "    </tr>\n",
       "    <tr>\n",
       "      <th>std</th>\n",
       "      <td>2.992647</td>\n",
       "      <td>2.409751</td>\n",
       "      <td>2.179726</td>\n",
       "      <td>0.101230</td>\n",
       "      <td>0.135283</td>\n",
       "    </tr>\n",
       "    <tr>\n",
       "      <th>min</th>\n",
       "      <td>10.100000</td>\n",
       "      <td>0.920000</td>\n",
       "      <td>0.530000</td>\n",
       "      <td>0.010000</td>\n",
       "      <td>0.030000</td>\n",
       "    </tr>\n",
       "    <tr>\n",
       "      <th>25%</th>\n",
       "      <td>11.950000</td>\n",
       "      <td>1.700000</td>\n",
       "      <td>0.670000</td>\n",
       "      <td>0.060000</td>\n",
       "      <td>0.050000</td>\n",
       "    </tr>\n",
       "    <tr>\n",
       "      <th>50%</th>\n",
       "      <td>13.800000</td>\n",
       "      <td>5.465000</td>\n",
       "      <td>3.825000</td>\n",
       "      <td>0.155000</td>\n",
       "      <td>0.150000</td>\n",
       "    </tr>\n",
       "    <tr>\n",
       "      <th>75%</th>\n",
       "      <td>17.450000</td>\n",
       "      <td>6.590000</td>\n",
       "      <td>4.502500</td>\n",
       "      <td>0.215000</td>\n",
       "      <td>0.215000</td>\n",
       "    </tr>\n",
       "    <tr>\n",
       "      <th>max</th>\n",
       "      <td>20.800000</td>\n",
       "      <td>7.090000</td>\n",
       "      <td>7.230000</td>\n",
       "      <td>0.310000</td>\n",
       "      <td>0.540000</td>\n",
       "    </tr>\n",
       "  </tbody>\n",
       "</table>\n",
       "</div>"
      ],
      "text/plain": [
       "              Al         Fe         Mg         Ca         Na\n",
       "count  26.000000  26.000000  26.000000  26.000000  26.000000\n",
       "mean   14.492308   4.467692   3.141538   0.146538   0.158462\n",
       "std     2.992647   2.409751   2.179726   0.101230   0.135283\n",
       "min    10.100000   0.920000   0.530000   0.010000   0.030000\n",
       "25%    11.950000   1.700000   0.670000   0.060000   0.050000\n",
       "50%    13.800000   5.465000   3.825000   0.155000   0.150000\n",
       "75%    17.450000   6.590000   4.502500   0.215000   0.215000\n",
       "max    20.800000   7.090000   7.230000   0.310000   0.540000"
      ]
     },
     "execution_count": 5,
     "metadata": {},
     "output_type": "execute_result"
    }
   ],
   "source": [
    "# Revisión rápida de datos estadísticos:\n",
    "# ------------------------------------------------------------------------------\n",
    "alfa.describe()"
   ]
  },
  {
   "cell_type": "markdown",
   "id": "3a493bf1",
   "metadata": {},
   "source": [
    "**Hallazgos Principales:**\n",
    "- Se observa que las escalas de las variables `Ca` y `Na` se encuentran en un rango compatible entre ellas, pero alejados al de las otras, por lo que quizás sería recomendable normalizar los datos previo modelado."
   ]
  },
  {
   "cell_type": "markdown",
   "id": "4204aad5",
   "metadata": {},
   "source": [
    "### Gráficas relevantes para el estudio"
   ]
  },
  {
   "cell_type": "code",
   "execution_count": 6,
   "id": "d1fa86f9",
   "metadata": {},
   "outputs": [
    {
     "data": {
      "image/png": "[encoded data removed]",
      "text/plain": [
       "<Figure size 576x432 with 2 Axes>"
      ]
     },
     "metadata": {
      "needs_background": "light"
     },
     "output_type": "display_data"
    }
   ],
   "source": [
    "# Mapa de Calor para datos numéricos\n",
    "# ------------------------------------------------------------------------------\n",
    "fig, ax = plt.subplots(figsize =(8,6))\n",
    "\n",
    "sns.heatmap(alfa.corr(), \n",
    "            ax    = ax,\n",
    "            annot   = True,\n",
    "            cmap  = 'GnBu'\n",
    "            )\n",
    "plt.title('Mapa de calor - Correlaciones')\n",
    "plt.tight_layout()\n",
    "plt.show()"
   ]
  },
  {
   "cell_type": "markdown",
   "id": "1d55741a",
   "metadata": {},
   "source": [
    "**Hallazgos Principales:**\n",
    "- Se observa una fuerte correlación entre `Mg` y `Fe` (del orden del 90%)\n",
    "- En general, la mayoría de las variables presentan correlaciones altas (por sobre el 60%), ya sean de caracter directo o inverso\n",
    "- Sólo en los casos de `Na` y `Al`, así mismo `Na` y `Ca`, se observan correlaciones menores al 50%\n",
    "\n",
    "Como complemento a la gráfica, se procede a revisar la matriz de correlación numérica para revisar los valores exactos."
   ]
  },
  {
   "cell_type": "code",
   "execution_count": 7,
   "id": "573b0cc9",
   "metadata": {
    "scrolled": false
   },
   "outputs": [
    {
     "data": {
      "text/html": [
       "<div>\n",
       "<style scoped>\n",
       "    .dataframe tbody tr th:only-of-type {\n",
       "        vertical-align: middle;\n",
       "    }\n",
       "\n",
       "    .dataframe tbody tr th {\n",
       "        vertical-align: top;\n",
       "    }\n",
       "\n",
       "    .dataframe thead th {\n",
       "        text-align: right;\n",
       "    }\n",
       "</style>\n",
       "<table border=\"1\" class=\"dataframe\">\n",
       "  <thead>\n",
       "    <tr style=\"text-align: right;\">\n",
       "      <th></th>\n",
       "      <th>Al</th>\n",
       "      <th>Fe</th>\n",
       "      <th>Mg</th>\n",
       "      <th>Ca</th>\n",
       "      <th>Na</th>\n",
       "    </tr>\n",
       "  </thead>\n",
       "  <tbody>\n",
       "    <tr>\n",
       "      <th>Al</th>\n",
       "      <td>1.000000</td>\n",
       "      <td>-0.788822</td>\n",
       "      <td>-0.798397</td>\n",
       "      <td>-0.763528</td>\n",
       "      <td>-0.472595</td>\n",
       "    </tr>\n",
       "    <tr>\n",
       "      <th>Fe</th>\n",
       "      <td>-0.788822</td>\n",
       "      <td>1.000000</td>\n",
       "      <td>0.900675</td>\n",
       "      <td>0.765205</td>\n",
       "      <td>0.661684</td>\n",
       "    </tr>\n",
       "    <tr>\n",
       "      <th>Mg</th>\n",
       "      <td>-0.798397</td>\n",
       "      <td>0.900675</td>\n",
       "      <td>1.000000</td>\n",
       "      <td>0.841959</td>\n",
       "      <td>0.642723</td>\n",
       "    </tr>\n",
       "    <tr>\n",
       "      <th>Ca</th>\n",
       "      <td>-0.763528</td>\n",
       "      <td>0.765205</td>\n",
       "      <td>0.841959</td>\n",
       "      <td>1.000000</td>\n",
       "      <td>0.481533</td>\n",
       "    </tr>\n",
       "    <tr>\n",
       "      <th>Na</th>\n",
       "      <td>-0.472595</td>\n",
       "      <td>0.661684</td>\n",
       "      <td>0.642723</td>\n",
       "      <td>0.481533</td>\n",
       "      <td>1.000000</td>\n",
       "    </tr>\n",
       "  </tbody>\n",
       "</table>\n",
       "</div>"
      ],
      "text/plain": [
       "          Al        Fe        Mg        Ca        Na\n",
       "Al  1.000000 -0.788822 -0.798397 -0.763528 -0.472595\n",
       "Fe -0.788822  1.000000  0.900675  0.765205  0.661684\n",
       "Mg -0.798397  0.900675  1.000000  0.841959  0.642723\n",
       "Ca -0.763528  0.765205  0.841959  1.000000  0.481533\n",
       "Na -0.472595  0.661684  0.642723  0.481533  1.000000"
      ]
     },
     "execution_count": 7,
     "metadata": {},
     "output_type": "execute_result"
    }
   ],
   "source": [
    "# Matriz de correlación de pearson\n",
    "# ------------------------------------------------------------------------------\n",
    "alfa.corr()"
   ]
  },
  {
   "cell_type": "code",
   "execution_count": 8,
   "id": "05c3cba2",
   "metadata": {},
   "outputs": [
    {
     "data": {
      "image/png": "[encoded data removed]",
      "text/plain": [
       "<Figure size 900x900 with 30 Axes>"
      ]
     },
     "metadata": {
      "needs_background": "light"
     },
     "output_type": "display_data"
    }
   ],
   "source": [
    "# Gráfico mixto\n",
    "# ------------------------------------------------------------------------------\n",
    "sns.pairplot(alfa, height = 2.5)\n",
    "plt.show()"
   ]
  },
  {
   "cell_type": "markdown",
   "id": "aa08cc1f",
   "metadata": {},
   "source": [
    "A continuación se genera una comparativa de boxplots verticales, bajo la misma escala para los diferentes elementos químicos presentes en la data."
   ]
  },
  {
   "cell_type": "code",
   "execution_count": 9,
   "id": "c72d66d6",
   "metadata": {},
   "outputs": [
    {
     "data": {
      "image/png": "[encoded data removed]",
      "text/plain": [
       "<Figure size 576x720 with 1 Axes>"
      ]
     },
     "metadata": {
      "needs_background": "light"
     },
     "output_type": "display_data"
    }
   ],
   "source": [
    "# Comparativa de Boxplots 1\n",
    "# ------------------------------------------------------------------------------\n",
    "fig, ax = plt.subplots(figsize =(8,10))\n",
    "\n",
    "ax = sns.boxplot (data      = alfa, \n",
    "                  orient    = 'v',\n",
    "                  color     = 'lightskyblue', \n",
    "                  linewidth = 1)\n",
    "\n",
    "plt.tight_layout()\n",
    "plt.show()"
   ]
  },
  {
   "cell_type": "markdown",
   "id": "22270d9d",
   "metadata": {},
   "source": [
    "Se observa que los datos se distrubuyen en rangos diferentes entre sí, por lo que se podría pensa en un escalado de variables (aunque al ser una cantidad de datos tan escasa, esto no generaría demasiadas diferencias en los resultados)."
   ]
  },
  {
   "cell_type": "code",
   "execution_count": 10,
   "id": "78381da0",
   "metadata": {
    "scrolled": true
   },
   "outputs": [
    {
     "data": {
      "image/png": "[encoded data removed]",
      "text/plain": [
       "<Figure size 576x576 with 5 Axes>"
      ]
     },
     "metadata": {
      "needs_background": "light"
     },
     "output_type": "display_data"
    }
   ],
   "source": [
    "# Boxplots para cada columna numérica\n",
    "# ------------------------------------------------------------------------------\n",
    "num   = alfa._get_numeric_data()\n",
    "names = list(num.columns)\n",
    "f, axes = plt.subplots(round(len(names)/1), 1, figsize = (8, 8))  \n",
    "y = 0;\n",
    "for name in names:\n",
    "    i, j = divmod((y-1), 1)\n",
    "    sns.boxplot(\n",
    "        x         = num[name], \n",
    "        ax        = axes[i],\n",
    "        color     = \"lightskyblue\",\n",
    "        linewidth = 1\n",
    "    )\n",
    "    \n",
    "    sns.swarmplot(\n",
    "        x         = num[name], \n",
    "        ax        = axes[i],\n",
    "        data      = alfa, \n",
    "        orient    = 'h', \n",
    "        color     = \"blue\",\n",
    "        size      = 3,\n",
    "    )\n",
    "    y = y + 1\n",
    "plt.tight_layout()\n",
    "plt.show()"
   ]
  },
  {
   "cell_type": "markdown",
   "id": "40dd2cee",
   "metadata": {},
   "source": [
    "**Hallazgos principales**\n",
    "* La variable `Na` posee datos atípicos.\n",
    "* Los datos de la variable `Mg` no se distribuyen de forma uniforme a lo largo del boxplot.\n",
    "* El resto de variables se distribuye de forma relativamente uniforme a lo largo del boxplot."
   ]
  },
  {
   "cell_type": "markdown",
   "id": "c5939bd2",
   "metadata": {},
   "source": [
    "## Limpieza de datos"
   ]
  },
  {
   "cell_type": "markdown",
   "id": "4d5e6d00",
   "metadata": {},
   "source": [
    "**_Valores Nulos_**\n",
    "\n",
    "No existen variables con alto porcentaje de valores nulos, ni tampoco filas, por lo que no se requiere eliminar valores dado este criterio.\n",
    "\n",
    "**_Datos fuera de rango_**\n",
    "\n",
    "Dada la baja cantidad de datos que posee la base, estudiar la presencia de valores extremos o atípicos no parece ser una opción que brinde información representativa, por lo que no se eliminaran variables o datos por este criterio. Además, se cuenta con el respaldo de lo visualizado en los boxplots con la distribución de datos, y se debe recordar que sólo uno de los elementos químicos presentó dos datos atípicos.\n",
    "\n",
    "\n",
    "**_Datos duplicados_**"
   ]
  },
  {
   "cell_type": "code",
   "execution_count": 11,
   "id": "dedafa7a",
   "metadata": {},
   "outputs": [
    {
     "name": "stdout",
     "output_type": "stream",
     "text": [
      "Antes de eliminar duplicados 26\n",
      "Después de eliminar duplicados 26\n"
     ]
    }
   ],
   "source": [
    "# Conteo previa eliminación de duplicados\n",
    "# ------------------------------------------------------------------------------\n",
    "print('Antes de eliminar duplicados', len(alfa))\n",
    "\n",
    "# Eliminado de duplicados\n",
    "# ------------------------------------------------------------------------------\n",
    "alfa2 = alfa.drop_duplicates()\n",
    "\n",
    "# Conteo post eliminación de duplicados\n",
    "# ------------------------------------------------------------------------------\n",
    "print('Después de eliminar duplicados', len(alfa2))"
   ]
  },
  {
   "cell_type": "markdown",
   "id": "d6770942",
   "metadata": {},
   "source": [
    "Se concluye que no existen datos duplicados que alteren los resultados del modelo a generar."
   ]
  },
  {
   "cell_type": "markdown",
   "id": "615ba90d",
   "metadata": {},
   "source": [
    "**_Recodificación de la variable `Sitio`_**\n",
    "\n",
    "Debido a que la variable Sitio "
   ]
  },
  {
   "cell_type": "code",
   "execution_count": 12,
   "id": "99fdd22d",
   "metadata": {},
   "outputs": [
    {
     "data": {
      "text/html": [
       "<div>\n",
       "<style scoped>\n",
       "    .dataframe tbody tr th:only-of-type {\n",
       "        vertical-align: middle;\n",
       "    }\n",
       "\n",
       "    .dataframe tbody tr th {\n",
       "        vertical-align: top;\n",
       "    }\n",
       "\n",
       "    .dataframe thead th {\n",
       "        text-align: right;\n",
       "    }\n",
       "</style>\n",
       "<table border=\"1\" class=\"dataframe\">\n",
       "  <thead>\n",
       "    <tr style=\"text-align: right;\">\n",
       "      <th></th>\n",
       "      <th>Al</th>\n",
       "      <th>Fe</th>\n",
       "      <th>Mg</th>\n",
       "      <th>Ca</th>\n",
       "      <th>Na</th>\n",
       "      <th>Sitio</th>\n",
       "    </tr>\n",
       "  </thead>\n",
       "  <tbody>\n",
       "    <tr>\n",
       "      <th>0</th>\n",
       "      <td>14.4</td>\n",
       "      <td>7.00</td>\n",
       "      <td>4.30</td>\n",
       "      <td>0.15</td>\n",
       "      <td>0.51</td>\n",
       "      <td>1</td>\n",
       "    </tr>\n",
       "    <tr>\n",
       "      <th>1</th>\n",
       "      <td>13.8</td>\n",
       "      <td>7.08</td>\n",
       "      <td>3.43</td>\n",
       "      <td>0.12</td>\n",
       "      <td>0.17</td>\n",
       "      <td>1</td>\n",
       "    </tr>\n",
       "    <tr>\n",
       "      <th>2</th>\n",
       "      <td>14.6</td>\n",
       "      <td>7.09</td>\n",
       "      <td>3.88</td>\n",
       "      <td>0.13</td>\n",
       "      <td>0.20</td>\n",
       "      <td>1</td>\n",
       "    </tr>\n",
       "    <tr>\n",
       "      <th>3</th>\n",
       "      <td>11.5</td>\n",
       "      <td>6.37</td>\n",
       "      <td>5.64</td>\n",
       "      <td>0.16</td>\n",
       "      <td>0.14</td>\n",
       "      <td>1</td>\n",
       "    </tr>\n",
       "    <tr>\n",
       "      <th>4</th>\n",
       "      <td>13.8</td>\n",
       "      <td>7.06</td>\n",
       "      <td>5.34</td>\n",
       "      <td>0.20</td>\n",
       "      <td>0.20</td>\n",
       "      <td>1</td>\n",
       "    </tr>\n",
       "  </tbody>\n",
       "</table>\n",
       "</div>"
      ],
      "text/plain": [
       "     Al    Fe    Mg    Ca    Na  Sitio\n",
       "0  14.4  7.00  4.30  0.15  0.51      1\n",
       "1  13.8  7.08  3.43  0.12  0.17      1\n",
       "2  14.6  7.09  3.88  0.13  0.20      1\n",
       "3  11.5  6.37  5.64  0.16  0.14      1\n",
       "4  13.8  7.06  5.34  0.20  0.20      1"
      ]
     },
     "execution_count": 12,
     "metadata": {},
     "output_type": "execute_result"
    }
   ],
   "source": [
    "# Recodificación de variables\n",
    "# ------------------------------------------------------------------------------\n",
    "alfa2['Sitio'] = alfa2['Sitio'].replace(['L'], 1)\n",
    "alfa2['Sitio'] = alfa2['Sitio'].replace(['C'], 2)\n",
    "alfa2['Sitio'] = alfa2['Sitio'].replace(['I'], 3)\n",
    "alfa2['Sitio'] = alfa2['Sitio'].replace(['A'], 4)\n",
    " \n",
    "# Revisión de los datos\n",
    "# ------------------------------------------------------------------------------\n",
    "alfa2.head()"
   ]
  },
  {
   "cell_type": "markdown",
   "id": "db70ea01",
   "metadata": {},
   "source": [
    "Se revisa la información nuevamente a modo de verificar que el tipo de variable ha cambiado."
   ]
  },
  {
   "cell_type": "code",
   "execution_count": 13,
   "id": "df116923",
   "metadata": {},
   "outputs": [
    {
     "name": "stdout",
     "output_type": "stream",
     "text": [
      "<class 'pandas.core.frame.DataFrame'>\n",
      "Int64Index: 26 entries, 0 to 25\n",
      "Data columns (total 6 columns):\n",
      " #   Column  Non-Null Count  Dtype  \n",
      "---  ------  --------------  -----  \n",
      " 0   Al      26 non-null     float64\n",
      " 1   Fe      26 non-null     float64\n",
      " 2   Mg      26 non-null     float64\n",
      " 3   Ca      26 non-null     float64\n",
      " 4   Na      26 non-null     float64\n",
      " 5   Sitio   26 non-null     int64  \n",
      "dtypes: float64(5), int64(1)\n",
      "memory usage: 1.4 KB\n"
     ]
    }
   ],
   "source": [
    "# Información de las variables:\n",
    "# ------------------------------------------------------------------------------\n",
    "alfa2.info()"
   ]
  },
  {
   "cell_type": "markdown",
   "id": "8a821038",
   "metadata": {},
   "source": [
    "## Modelado de los datos"
   ]
  },
  {
   "cell_type": "markdown",
   "id": "c2ad5233",
   "metadata": {},
   "source": [
    "### 1.  ANOVA: Verificación de condiciones"
   ]
  },
  {
   "cell_type": "markdown",
   "id": "0fa8579e",
   "metadata": {},
   "source": [
    "#### Independencia "
   ]
  },
  {
   "cell_type": "markdown",
   "id": "16bcf88f",
   "metadata": {},
   "source": [
    "Se asume independencia de los datos, dados a que han sido entregados para realizar labores de estudio (se asume muestreo aleatorio simple y se validará o descartará según las evidencias encontradas posteriormente)."
   ]
  },
  {
   "cell_type": "markdown",
   "id": "b99388f2",
   "metadata": {},
   "source": [
    "#### Distribución normal de las observaciones "
   ]
  },
  {
   "cell_type": "markdown",
   "id": "2e769a5b",
   "metadata": {},
   "source": [
    "Las variable cuantitativas deberían de distribuirse de forma normal en cada uno de las agrupacines dadas, según la columna `Sitio`. \n",
    "\n",
    "Este estudio de normalidad podría realizarse de manera gráfica con `qqplot` o con un test de hipótesis, los cuales serán revisados a continuación:"
   ]
  },
  {
   "cell_type": "code",
   "execution_count": 14,
   "id": "c2e2a3dc",
   "metadata": {
    "scrolled": false
   },
   "outputs": [
    {
     "data": {
      "text/plain": [
       "Text(0.5, 1.0, 'Na')"
      ]
     },
     "execution_count": 14,
     "metadata": {},
     "output_type": "execute_result"
    },
    {
     "data": {
      "image/png": "[encoded data removed]",
      "text/plain": [
       "<Figure size 576x576 with 4 Axes>"
      ]
     },
     "metadata": {
      "needs_background": "light"
     },
     "output_type": "display_data"
    },
    {
     "data": {
      "image/png": "[encoded data removed]",
      "text/plain": [
       "<Figure size 288x288 with 1 Axes>"
      ]
     },
     "metadata": {
      "needs_background": "light"
     },
     "output_type": "display_data"
    }
   ],
   "source": [
    "# Quantile - quantile plot para cada uno de lo elementos químicos\n",
    "# ------------------------------------------------------------------------------\n",
    "fig, axs = plt.subplots(2, 2, figsize = (8, 8))\n",
    "\n",
    "ax = pg.qqplot(alfa['Al'],\n",
    "               dist = 'norm',\n",
    "               ax   = axs[0,0])\n",
    "axs[0,0].set_title('Al')\n",
    "\n",
    "ax = pg.qqplot(alfa['Fe'], \n",
    "               dist = 'norm', \n",
    "               ax   = axs[0,1])\n",
    "axs[0,1].set_title('Fe')\n",
    "\n",
    "ax = pg.qqplot(alfa['Mg'], \n",
    "               dist = 'norm', \n",
    "               ax   = axs[1,0])\n",
    "axs[1,0].set_title('Mg')\n",
    "\n",
    "ax = pg.qqplot(alfa['Ca'], \n",
    "               dist = 'norm', \n",
    "               ax   = axs[1,1])\n",
    "axs[1,1].set_title('Ca')\n",
    "\n",
    "plt.tight_layout()\n",
    "\n",
    "fig, ax1 = plt.subplots(figsize = (4, 4))\n",
    "\n",
    "ax = pg.qqplot(alfa['Na'], \n",
    "               dist = 'norm', \n",
    "               ax   = ax1)\n",
    "ax1.set_title('Na')\n"
   ]
  },
  {
   "cell_type": "markdown",
   "id": "a22962b1",
   "metadata": {},
   "source": [
    "Se observan distribuciones de los datos no coincidentes con una normal, de forma más marcada, en el caso de `Fe` y `Mg`, lo mismo en el caso de `Na`, pero se observa que esto podría estar ddado por los dos puntos atípicos que presenta. Sólo `Al` y `Ca` presentan $R^2$ sobre el 0.94."
   ]
  },
  {
   "cell_type": "markdown",
   "id": "7a0f091c",
   "metadata": {},
   "source": [
    "En este caso no se puede aplicar un test de normalidad de Shapiro-Wilk dado a que se necesitan más de dos muestras, y al hacer el `group` según la columna `Sitio`, se obtienen los siguientes resultados: "
   ]
  },
  {
   "cell_type": "code",
   "execution_count": 15,
   "id": "624b1292",
   "metadata": {},
   "outputs": [
    {
     "data": {
      "text/plain": [
       "Sitio\n",
       "A     5\n",
       "C     2\n",
       "I     5\n",
       "L    14\n",
       "dtype: int64"
      ]
     },
     "execution_count": 15,
     "metadata": {},
     "output_type": "execute_result"
    }
   ],
   "source": [
    "# Número de observaciones por grupo\n",
    "# ------------------------------------------------------------------------------\n",
    "alfa.groupby('Sitio').size()"
   ]
  },
  {
   "cell_type": "markdown",
   "id": "9a40f8cd",
   "metadata": {},
   "source": [
    "Como se puede ver, la categoría `C` tiene sólo dos muestras, lo que arruina el estudio. Se podría eliminar dicha categoría y sus datos asociados, para hacer un estudio a los demás grupos, pero dada la baja cantidad de datos, esto es algo que no valdría la pena.\n",
    "\n",
    "En cambio, si podemos realizar un test de normalidad simple (esta vez por Shapiro), sin realizar una agrupación de los datos."
   ]
  },
  {
   "cell_type": "code",
   "execution_count": 16,
   "id": "85be3868",
   "metadata": {},
   "outputs": [
    {
     "name": "stdout",
     "output_type": "stream",
     "text": [
      "           W      pval  normal\n",
      "Al  0.933607  0.094467    True\n",
      "Fe  0.822343  0.000433   False\n",
      "Mg  0.856937  0.001945   False\n",
      "Ca  0.923626  0.054717    True\n",
      "Na  0.813280  0.000299   False\n"
     ]
    }
   ],
   "source": [
    "# Test de normalidad univariada\n",
    "# ------------------------------------------------------------------------------\n",
    "print(pg.normality(alfa))\n"
   ]
  },
  {
   "cell_type": "markdown",
   "id": "6a670d79",
   "metadata": {},
   "source": [
    "Al complementar esta información con lo obtenido en los datos, se puede apreciar que en el caso de `Na` lo que podría estar afectando su normalidad, son la presencia de los dos datos atípicos ya descubiertos. En el caso de `Mg` y `Fe`, según la gráfica, se puede ver que su distribución podría estar relacionada a otra de características no lineales, pero, nuevamente, al ser tan pocos datos, no se puede afirmar algo en concreto o relevante para el estudio."
   ]
  },
  {
   "cell_type": "markdown",
   "id": "52cd1363",
   "metadata": {},
   "source": [
    "#### Varianza constante entre grupos (homocedasticidad) "
   ]
  },
  {
   "cell_type": "markdown",
   "id": "629aafa4",
   "metadata": {},
   "source": [
    "Además de la normalidad de los datos, sería necesario revisar la homocedasticidad de ellos (pese a que al encontrar que no todos distribuyen normal, ya descartaría la palicación de un test ANOVA, para efectos de aprendizaje y estudio, se realizará esta parte de igual forma)."
   ]
  },
  {
   "cell_type": "code",
   "execution_count": 17,
   "id": "92732b2b",
   "metadata": {},
   "outputs": [
    {
     "name": "stdout",
     "output_type": "stream",
     "text": [
      "------------------------------\n",
      "Test de homocedasticidad de Al\n",
      "------------------------------\n"
     ]
    },
    {
     "data": {
      "text/html": [
       "<div>\n",
       "<style scoped>\n",
       "    .dataframe tbody tr th:only-of-type {\n",
       "        vertical-align: middle;\n",
       "    }\n",
       "\n",
       "    .dataframe tbody tr th {\n",
       "        vertical-align: top;\n",
       "    }\n",
       "\n",
       "    .dataframe thead th {\n",
       "        text-align: right;\n",
       "    }\n",
       "</style>\n",
       "<table border=\"1\" class=\"dataframe\">\n",
       "  <thead>\n",
       "    <tr style=\"text-align: right;\">\n",
       "      <th></th>\n",
       "      <th>W</th>\n",
       "      <th>pval</th>\n",
       "      <th>equal_var</th>\n",
       "    </tr>\n",
       "  </thead>\n",
       "  <tbody>\n",
       "    <tr>\n",
       "      <th>levene</th>\n",
       "      <td>0.757103</td>\n",
       "      <td>0.530105</td>\n",
       "      <td>True</td>\n",
       "    </tr>\n",
       "  </tbody>\n",
       "</table>\n",
       "</div>"
      ],
      "text/plain": [
       "               W      pval  equal_var\n",
       "levene  0.757103  0.530105       True"
      ]
     },
     "metadata": {},
     "output_type": "display_data"
    },
    {
     "name": "stdout",
     "output_type": "stream",
     "text": [
      "------------------------------\n",
      "Test de homocedasticidad de Fe\n",
      "------------------------------\n"
     ]
    },
    {
     "data": {
      "text/html": [
       "<div>\n",
       "<style scoped>\n",
       "    .dataframe tbody tr th:only-of-type {\n",
       "        vertical-align: middle;\n",
       "    }\n",
       "\n",
       "    .dataframe tbody tr th {\n",
       "        vertical-align: top;\n",
       "    }\n",
       "\n",
       "    .dataframe thead th {\n",
       "        text-align: right;\n",
       "    }\n",
       "</style>\n",
       "<table border=\"1\" class=\"dataframe\">\n",
       "  <thead>\n",
       "    <tr style=\"text-align: right;\">\n",
       "      <th></th>\n",
       "      <th>W</th>\n",
       "      <th>pval</th>\n",
       "      <th>equal_var</th>\n",
       "    </tr>\n",
       "  </thead>\n",
       "  <tbody>\n",
       "    <tr>\n",
       "      <th>levene</th>\n",
       "      <td>0.757103</td>\n",
       "      <td>0.530105</td>\n",
       "      <td>True</td>\n",
       "    </tr>\n",
       "  </tbody>\n",
       "</table>\n",
       "</div>"
      ],
      "text/plain": [
       "               W      pval  equal_var\n",
       "levene  0.757103  0.530105       True"
      ]
     },
     "metadata": {},
     "output_type": "display_data"
    },
    {
     "name": "stdout",
     "output_type": "stream",
     "text": [
      "------------------------------\n",
      "Test de homocedasticidad de Mg\n",
      "------------------------------\n"
     ]
    },
    {
     "data": {
      "text/html": [
       "<div>\n",
       "<style scoped>\n",
       "    .dataframe tbody tr th:only-of-type {\n",
       "        vertical-align: middle;\n",
       "    }\n",
       "\n",
       "    .dataframe tbody tr th {\n",
       "        vertical-align: top;\n",
       "    }\n",
       "\n",
       "    .dataframe thead th {\n",
       "        text-align: right;\n",
       "    }\n",
       "</style>\n",
       "<table border=\"1\" class=\"dataframe\">\n",
       "  <thead>\n",
       "    <tr style=\"text-align: right;\">\n",
       "      <th></th>\n",
       "      <th>W</th>\n",
       "      <th>pval</th>\n",
       "      <th>equal_var</th>\n",
       "    </tr>\n",
       "  </thead>\n",
       "  <tbody>\n",
       "    <tr>\n",
       "      <th>levene</th>\n",
       "      <td>0.757103</td>\n",
       "      <td>0.530105</td>\n",
       "      <td>True</td>\n",
       "    </tr>\n",
       "  </tbody>\n",
       "</table>\n",
       "</div>"
      ],
      "text/plain": [
       "               W      pval  equal_var\n",
       "levene  0.757103  0.530105       True"
      ]
     },
     "metadata": {},
     "output_type": "display_data"
    },
    {
     "name": "stdout",
     "output_type": "stream",
     "text": [
      "------------------------------\n",
      "Test de homocedasticidad de Ca\n",
      "------------------------------\n"
     ]
    },
    {
     "data": {
      "text/html": [
       "<div>\n",
       "<style scoped>\n",
       "    .dataframe tbody tr th:only-of-type {\n",
       "        vertical-align: middle;\n",
       "    }\n",
       "\n",
       "    .dataframe tbody tr th {\n",
       "        vertical-align: top;\n",
       "    }\n",
       "\n",
       "    .dataframe thead th {\n",
       "        text-align: right;\n",
       "    }\n",
       "</style>\n",
       "<table border=\"1\" class=\"dataframe\">\n",
       "  <thead>\n",
       "    <tr style=\"text-align: right;\">\n",
       "      <th></th>\n",
       "      <th>W</th>\n",
       "      <th>pval</th>\n",
       "      <th>equal_var</th>\n",
       "    </tr>\n",
       "  </thead>\n",
       "  <tbody>\n",
       "    <tr>\n",
       "      <th>levene</th>\n",
       "      <td>0.757103</td>\n",
       "      <td>0.530105</td>\n",
       "      <td>True</td>\n",
       "    </tr>\n",
       "  </tbody>\n",
       "</table>\n",
       "</div>"
      ],
      "text/plain": [
       "               W      pval  equal_var\n",
       "levene  0.757103  0.530105       True"
      ]
     },
     "metadata": {},
     "output_type": "display_data"
    },
    {
     "name": "stdout",
     "output_type": "stream",
     "text": [
      "------------------------------\n",
      "Test de homocedasticidad de Na\n",
      "------------------------------\n"
     ]
    },
    {
     "data": {
      "text/html": [
       "<div>\n",
       "<style scoped>\n",
       "    .dataframe tbody tr th:only-of-type {\n",
       "        vertical-align: middle;\n",
       "    }\n",
       "\n",
       "    .dataframe tbody tr th {\n",
       "        vertical-align: top;\n",
       "    }\n",
       "\n",
       "    .dataframe thead th {\n",
       "        text-align: right;\n",
       "    }\n",
       "</style>\n",
       "<table border=\"1\" class=\"dataframe\">\n",
       "  <thead>\n",
       "    <tr style=\"text-align: right;\">\n",
       "      <th></th>\n",
       "      <th>W</th>\n",
       "      <th>pval</th>\n",
       "      <th>equal_var</th>\n",
       "    </tr>\n",
       "  </thead>\n",
       "  <tbody>\n",
       "    <tr>\n",
       "      <th>levene</th>\n",
       "      <td>0.757103</td>\n",
       "      <td>0.530105</td>\n",
       "      <td>True</td>\n",
       "    </tr>\n",
       "  </tbody>\n",
       "</table>\n",
       "</div>"
      ],
      "text/plain": [
       "               W      pval  equal_var\n",
       "levene  0.757103  0.530105       True"
      ]
     },
     "metadata": {},
     "output_type": "display_data"
    }
   ],
   "source": [
    "# Test de homocedasticidad para cada elemento químico\n",
    "# ------------------------------------------------------------------------------\n",
    "print('------------------------------')\n",
    "print('Test de homocedasticidad de Al')\n",
    "print('------------------------------')\n",
    "display(pg.homoscedasticity(data   = alfa, \n",
    "                            dv     ='Al', \n",
    "                            group  = 'Sitio', \n",
    "                            method = 'levene')\n",
    "       )\n",
    "\n",
    "print('------------------------------')\n",
    "print('Test de homocedasticidad de Fe')\n",
    "print('------------------------------')\n",
    "display(pg.homoscedasticity(data   = alfa, \n",
    "                            dv     ='Al', \n",
    "                            group  = 'Sitio', \n",
    "                            method = 'levene')\n",
    "       )\n",
    "\n",
    "print('------------------------------')\n",
    "print('Test de homocedasticidad de Mg')\n",
    "print('------------------------------')\n",
    "display(pg.homoscedasticity(data   = alfa, \n",
    "                            dv     ='Al', \n",
    "                            group  = 'Sitio', \n",
    "                            method = 'levene')\n",
    "       )\n",
    "\n",
    "print('------------------------------')\n",
    "print('Test de homocedasticidad de Ca')\n",
    "print('------------------------------')\n",
    "display(pg.homoscedasticity(data   = alfa, \n",
    "                            dv     ='Al', \n",
    "                            group  = 'Sitio', \n",
    "                            method = 'levene')\n",
    "       )\n",
    "\n",
    "print('------------------------------')\n",
    "print('Test de homocedasticidad de Na')\n",
    "print('------------------------------')\n",
    "display(pg.homoscedasticity(data   = alfa, \n",
    "                            dv     ='Al', \n",
    "                            group  = 'Sitio', \n",
    "                            method = 'levene')\n",
    "       )"
   ]
  },
  {
   "cell_type": "markdown",
   "id": "f128f124",
   "metadata": {},
   "source": [
    "Según el test de `levene`, se observa que se cumple la homocedasticidad para todas las variables."
   ]
  },
  {
   "cell_type": "markdown",
   "id": "fe4955d2",
   "metadata": {},
   "source": [
    "#### Test ANOVA"
   ]
  },
  {
   "cell_type": "markdown",
   "id": "d2c3736b",
   "metadata": {},
   "source": [
    "En este caso como no se cumplen las condiciones de normalidad para todo el conjunto de datos, no correspondería generar un test ANOVA."
   ]
  },
  {
   "cell_type": "markdown",
   "id": "4de72ef1",
   "metadata": {},
   "source": [
    "### 2. Decision Tree Classifier"
   ]
  },
  {
   "cell_type": "markdown",
   "id": "327caa25",
   "metadata": {},
   "source": [
    "Se inicia la etapa de modelado a través de un árbol de decisiones."
   ]
  },
  {
   "cell_type": "markdown",
   "id": "76fbb94e",
   "metadata": {},
   "source": [
    "#### División de los datos en grupos de `train` y `test`\n",
    "\n",
    "Se debe considerar que esta división de datos se realizará con foco en la variable de estudio: `Sitio`."
   ]
  },
  {
   "cell_type": "code",
   "execution_count": 36,
   "id": "dc70a988",
   "metadata": {},
   "outputs": [],
   "source": [
    "# Definiciones auxiliares\n",
    "# ------------------------------------------------------------------------------\n",
    "df = alfa2.drop(columns=['Sitio'])\n",
    "y = alfa2['Sitio']\n",
    "\n",
    "# División de los datos en train y test\n",
    "# ------------------------------------------------------------------------------\n",
    "X_train, X_test, y_train, y_test = train_test_split(df, y, test_size = 0.3, random_state = 123)"
   ]
  },
  {
   "cell_type": "markdown",
   "id": "7da61f41",
   "metadata": {},
   "source": [
    "#### Creación del modelo\n",
    "\n",
    "Con la división generada, se procede a la creación del modelo, para lo cual se considerará una `max_depth = 5` y `criterion = gini` de forma inicial y arbitraria, a modo de referencia para comparaciones futuras."
   ]
  },
  {
   "cell_type": "code",
   "execution_count": 37,
   "id": "78703dc3",
   "metadata": {},
   "outputs": [
    {
     "data": {
      "text/html": [
       "<style>#sk-container-id-1 {color: black;background-color: white;}#sk-container-id-1 pre{padding: 0;}#sk-container-id-1 div.sk-toggleable {background-color: white;}#sk-container-id-1 label.sk-toggleable__label {cursor: pointer;display: block;width: 100%;margin-bottom: 0;padding: 0.3em;box-sizing: border-box;text-align: center;}#sk-container-id-1 label.sk-toggleable__label-arrow:before {content: \"▸\";float: left;margin-right: 0.25em;color: #696969;}#sk-container-id-1 label.sk-toggleable__label-arrow:hover:before {color: black;}#sk-container-id-1 div.sk-estimator:hover label.sk-toggleable__label-arrow:before {color: black;}#sk-container-id-1 div.sk-toggleable__content {max-height: 0;max-width: 0;overflow: hidden;text-align: left;background-color: #f0f8ff;}#sk-container-id-1 div.sk-toggleable__content pre {margin: 0.2em;color: black;border-radius: 0.25em;background-color: #f0f8ff;}#sk-container-id-1 input.sk-toggleable__control:checked~div.sk-toggleable__content {max-height: 200px;max-width: 100%;overflow: auto;}#sk-container-id-1 input.sk-toggleable__control:checked~label.sk-toggleable__label-arrow:before {content: \"▾\";}#sk-container-id-1 div.sk-estimator input.sk-toggleable__control:checked~label.sk-toggleable__label {background-color: #d4ebff;}#sk-container-id-1 div.sk-label input.sk-toggleable__control:checked~label.sk-toggleable__label {background-color: #d4ebff;}#sk-container-id-1 input.sk-hidden--visually {border: 0;clip: rect(1px 1px 1px 1px);clip: rect(1px, 1px, 1px, 1px);height: 1px;margin: -1px;overflow: hidden;padding: 0;position: absolute;width: 1px;}#sk-container-id-1 div.sk-estimator {font-family: monospace;background-color: #f0f8ff;border: 1px dotted black;border-radius: 0.25em;box-sizing: border-box;margin-bottom: 0.5em;}#sk-container-id-1 div.sk-estimator:hover {background-color: #d4ebff;}#sk-container-id-1 div.sk-parallel-item::after {content: \"\";width: 100%;border-bottom: 1px solid gray;flex-grow: 1;}#sk-container-id-1 div.sk-label:hover label.sk-toggleable__label {background-color: #d4ebff;}#sk-container-id-1 div.sk-serial::before {content: \"\";position: absolute;border-left: 1px solid gray;box-sizing: border-box;top: 0;bottom: 0;left: 50%;z-index: 0;}#sk-container-id-1 div.sk-serial {display: flex;flex-direction: column;align-items: center;background-color: white;padding-right: 0.2em;padding-left: 0.2em;position: relative;}#sk-container-id-1 div.sk-item {position: relative;z-index: 1;}#sk-container-id-1 div.sk-parallel {display: flex;align-items: stretch;justify-content: center;background-color: white;position: relative;}#sk-container-id-1 div.sk-item::before, #sk-container-id-1 div.sk-parallel-item::before {content: \"\";position: absolute;border-left: 1px solid gray;box-sizing: border-box;top: 0;bottom: 0;left: 50%;z-index: -1;}#sk-container-id-1 div.sk-parallel-item {display: flex;flex-direction: column;z-index: 1;position: relative;background-color: white;}#sk-container-id-1 div.sk-parallel-item:first-child::after {align-self: flex-end;width: 50%;}#sk-container-id-1 div.sk-parallel-item:last-child::after {align-self: flex-start;width: 50%;}#sk-container-id-1 div.sk-parallel-item:only-child::after {width: 0;}#sk-container-id-1 div.sk-dashed-wrapped {border: 1px dashed gray;margin: 0 0.4em 0.5em 0.4em;box-sizing: border-box;padding-bottom: 0.4em;background-color: white;}#sk-container-id-1 div.sk-label label {font-family: monospace;font-weight: bold;display: inline-block;line-height: 1.2em;}#sk-container-id-1 div.sk-label-container {text-align: center;}#sk-container-id-1 div.sk-container {/* jupyter's `normalize.less` sets `[hidden] { display: none; }` but bootstrap.min.css set `[hidden] { display: none !important; }` so we also need the `!important` here to be able to override the default hidden behavior on the sphinx rendered scikit-learn.org. See: https://github.com/scikit-learn/scikit-learn/issues/21755 */display: inline-block !important;position: relative;}#sk-container-id-1 div.sk-text-repr-fallback {display: none;}</style><div id=\"sk-container-id-1\" class=\"sk-top-container\"><div class=\"sk-text-repr-fallback\"><pre>DecisionTreeClassifier(max_depth=2, random_state=123)</pre><b>In a Jupyter environment, please rerun this cell to show the HTML representation or trust the notebook. <br />On GitHub, the HTML representation is unable to render, please try loading this page with nbviewer.org.</b></div><div class=\"sk-container\" hidden><div class=\"sk-item\"><div class=\"sk-estimator sk-toggleable\"><input class=\"sk-toggleable__control sk-hidden--visually\" id=\"sk-estimator-id-1\" type=\"checkbox\" checked><label for=\"sk-estimator-id-1\" class=\"sk-toggleable__label sk-toggleable__label-arrow\">DecisionTreeClassifier</label><div class=\"sk-toggleable__content\"><pre>DecisionTreeClassifier(max_depth=2, random_state=123)</pre></div></div></div></div></div>"
      ],
      "text/plain": [
       "DecisionTreeClassifier(max_depth=2, random_state=123)"
      ]
     },
     "execution_count": 37,
     "metadata": {},
     "output_type": "execute_result"
    }
   ],
   "source": [
    "# Creación del modelo inicial\n",
    "# ------------------------------------------------------------------------------\n",
    "modelo = DecisionTreeClassifier(\n",
    "            max_depth         = 2,\n",
    "            criterion         = 'gini',\n",
    "            random_state      = 123\n",
    "          )\n",
    "\n",
    "# Entrenamiento del modelo inicial\n",
    "# ------------------------------------------------------------------------------\n",
    "modelo.fit(X_train, y_train)"
   ]
  },
  {
   "cell_type": "code",
   "execution_count": 38,
   "id": "eea8da38",
   "metadata": {},
   "outputs": [
    {
     "name": "stdout",
     "output_type": "stream",
     "text": [
      "Profundidad del árbol: 2\n",
      "Número de nodos terminales: 3\n"
     ]
    },
    {
     "data": {
      "image/png": "[encoded data removed]",
      "text/plain": [
       "<Figure size 1440x720 with 1 Axes>"
      ]
     },
     "metadata": {
      "needs_background": "light"
     },
     "output_type": "display_data"
    }
   ],
   "source": [
    "# Visualización de max_depth y nodos terminales\n",
    "# ------------------------------------------------------------------------------\n",
    "print(f'Profundidad del árbol: {modelo.get_depth()}')\n",
    "print(f'Número de nodos terminales: {modelo.get_n_leaves()}')\n",
    "\n",
    "# Grafica del árbol creado\n",
    "# ------------------------------------------------------------------------------\n",
    "fig, ax = plt.subplots(figsize =(20, 10))\n",
    "\n",
    "plot = plot_tree(\n",
    "            decision_tree = modelo,\n",
    "            feature_names = df.columns.to_list(),\n",
    "            class_names   = ('L', 'C','I','A'),\n",
    "            filled        = True,\n",
    "            impurity      = False,\n",
    "            fontsize      = 12,\n",
    "            ax            = ax,\n",
    "       )\n",
    "\n",
    "plt.tight_layout()\n",
    "plt.show()"
   ]
  },
  {
   "cell_type": "markdown",
   "id": "aeeaa6e6",
   "metadata": {},
   "source": [
    "#### Error y precisión del modelo inicial\n",
    "\n",
    "Se procede con un estudio del error del modelo inicial, através de la confección de una matriz de confusión, para luego estudiar el `accuracy` del modelo."
   ]
  },
  {
   "cell_type": "code",
   "execution_count": 39,
   "id": "ec81c259",
   "metadata": {},
   "outputs": [
    {
     "name": "stdout",
     "output_type": "stream",
     "text": [
      "Matriz de confusión\n",
      "-------------------\n"
     ]
    },
    {
     "data": {
      "text/plain": [
       "array([[4, 0, 0],\n",
       "       [1, 1, 0],\n",
       "       [0, 2, 0]])"
      ]
     },
     "execution_count": 39,
     "metadata": {},
     "output_type": "execute_result"
    }
   ],
   "source": [
    "# Matriz de confusión del modelo inicial\n",
    "#-------------------------------------------------------------------------------\n",
    "predicciones = modelo.predict(X = X_test,)\n",
    "\n",
    "print('Matriz de confusión')\n",
    "print('-------------------')\n",
    "confusion_matrix(\n",
    "    y_true    = y_test,\n",
    "    y_pred    = predicciones\n",
    ")"
   ]
  },
  {
   "cell_type": "code",
   "execution_count": 40,
   "id": "41d820f5",
   "metadata": {},
   "outputs": [
    {
     "name": "stdout",
     "output_type": "stream",
     "text": [
      "El accuracy de test es: 62.5 %\n"
     ]
    }
   ],
   "source": [
    "# Precisión del modelo inicial\n",
    "#-------------------------------------------------------------------------------\n",
    "accuracy = accuracy_score(\n",
    "            y_true    = y_test,\n",
    "            y_pred    = predicciones,\n",
    "            normalize = True\n",
    "           )\n",
    "print(f'El accuracy de test es: {100 * accuracy} %')"
   ]
  },
  {
   "cell_type": "markdown",
   "id": "001e71a6",
   "metadata": {},
   "source": [
    "Con la finalidad de mejorar el modelo, se realiza una busqueda de parámetros por validación cruzada."
   ]
  },
  {
   "cell_type": "code",
   "execution_count": 41,
   "id": "cb7b41b7",
   "metadata": {},
   "outputs": [
    {
     "data": {
      "text/html": [
       "<style>#sk-container-id-2 {color: black;background-color: white;}#sk-container-id-2 pre{padding: 0;}#sk-container-id-2 div.sk-toggleable {background-color: white;}#sk-container-id-2 label.sk-toggleable__label {cursor: pointer;display: block;width: 100%;margin-bottom: 0;padding: 0.3em;box-sizing: border-box;text-align: center;}#sk-container-id-2 label.sk-toggleable__label-arrow:before {content: \"▸\";float: left;margin-right: 0.25em;color: #696969;}#sk-container-id-2 label.sk-toggleable__label-arrow:hover:before {color: black;}#sk-container-id-2 div.sk-estimator:hover label.sk-toggleable__label-arrow:before {color: black;}#sk-container-id-2 div.sk-toggleable__content {max-height: 0;max-width: 0;overflow: hidden;text-align: left;background-color: #f0f8ff;}#sk-container-id-2 div.sk-toggleable__content pre {margin: 0.2em;color: black;border-radius: 0.25em;background-color: #f0f8ff;}#sk-container-id-2 input.sk-toggleable__control:checked~div.sk-toggleable__content {max-height: 200px;max-width: 100%;overflow: auto;}#sk-container-id-2 input.sk-toggleable__control:checked~label.sk-toggleable__label-arrow:before {content: \"▾\";}#sk-container-id-2 div.sk-estimator input.sk-toggleable__control:checked~label.sk-toggleable__label {background-color: #d4ebff;}#sk-container-id-2 div.sk-label input.sk-toggleable__control:checked~label.sk-toggleable__label {background-color: #d4ebff;}#sk-container-id-2 input.sk-hidden--visually {border: 0;clip: rect(1px 1px 1px 1px);clip: rect(1px, 1px, 1px, 1px);height: 1px;margin: -1px;overflow: hidden;padding: 0;position: absolute;width: 1px;}#sk-container-id-2 div.sk-estimator {font-family: monospace;background-color: #f0f8ff;border: 1px dotted black;border-radius: 0.25em;box-sizing: border-box;margin-bottom: 0.5em;}#sk-container-id-2 div.sk-estimator:hover {background-color: #d4ebff;}#sk-container-id-2 div.sk-parallel-item::after {content: \"\";width: 100%;border-bottom: 1px solid gray;flex-grow: 1;}#sk-container-id-2 div.sk-label:hover label.sk-toggleable__label {background-color: #d4ebff;}#sk-container-id-2 div.sk-serial::before {content: \"\";position: absolute;border-left: 1px solid gray;box-sizing: border-box;top: 0;bottom: 0;left: 50%;z-index: 0;}#sk-container-id-2 div.sk-serial {display: flex;flex-direction: column;align-items: center;background-color: white;padding-right: 0.2em;padding-left: 0.2em;position: relative;}#sk-container-id-2 div.sk-item {position: relative;z-index: 1;}#sk-container-id-2 div.sk-parallel {display: flex;align-items: stretch;justify-content: center;background-color: white;position: relative;}#sk-container-id-2 div.sk-item::before, #sk-container-id-2 div.sk-parallel-item::before {content: \"\";position: absolute;border-left: 1px solid gray;box-sizing: border-box;top: 0;bottom: 0;left: 50%;z-index: -1;}#sk-container-id-2 div.sk-parallel-item {display: flex;flex-direction: column;z-index: 1;position: relative;background-color: white;}#sk-container-id-2 div.sk-parallel-item:first-child::after {align-self: flex-end;width: 50%;}#sk-container-id-2 div.sk-parallel-item:last-child::after {align-self: flex-start;width: 50%;}#sk-container-id-2 div.sk-parallel-item:only-child::after {width: 0;}#sk-container-id-2 div.sk-dashed-wrapped {border: 1px dashed gray;margin: 0 0.4em 0.5em 0.4em;box-sizing: border-box;padding-bottom: 0.4em;background-color: white;}#sk-container-id-2 div.sk-label label {font-family: monospace;font-weight: bold;display: inline-block;line-height: 1.2em;}#sk-container-id-2 div.sk-label-container {text-align: center;}#sk-container-id-2 div.sk-container {/* jupyter's `normalize.less` sets `[hidden] { display: none; }` but bootstrap.min.css set `[hidden] { display: none !important; }` so we also need the `!important` here to be able to override the default hidden behavior on the sphinx rendered scikit-learn.org. See: https://github.com/scikit-learn/scikit-learn/issues/21755 */display: inline-block !important;position: relative;}#sk-container-id-2 div.sk-text-repr-fallback {display: none;}</style><div id=\"sk-container-id-2\" class=\"sk-top-container\"><div class=\"sk-text-repr-fallback\"><pre>GridSearchCV(cv=10, estimator=DecisionTreeClassifier(random_state=123),\n",
       "             param_grid={&#x27;ccp_alpha&#x27;: range(0, 5), &#x27;max_depth&#x27;: range(1, 20),\n",
       "                         &#x27;max_features&#x27;: [&#x27;sqrt&#x27;, &#x27;log2&#x27;]},\n",
       "             scoring=&#x27;accuracy&#x27;)</pre><b>In a Jupyter environment, please rerun this cell to show the HTML representation or trust the notebook. <br />On GitHub, the HTML representation is unable to render, please try loading this page with nbviewer.org.</b></div><div class=\"sk-container\" hidden><div class=\"sk-item sk-dashed-wrapped\"><div class=\"sk-label-container\"><div class=\"sk-label sk-toggleable\"><input class=\"sk-toggleable__control sk-hidden--visually\" id=\"sk-estimator-id-2\" type=\"checkbox\" ><label for=\"sk-estimator-id-2\" class=\"sk-toggleable__label sk-toggleable__label-arrow\">GridSearchCV</label><div class=\"sk-toggleable__content\"><pre>GridSearchCV(cv=10, estimator=DecisionTreeClassifier(random_state=123),\n",
       "             param_grid={&#x27;ccp_alpha&#x27;: range(0, 5), &#x27;max_depth&#x27;: range(1, 20),\n",
       "                         &#x27;max_features&#x27;: [&#x27;sqrt&#x27;, &#x27;log2&#x27;]},\n",
       "             scoring=&#x27;accuracy&#x27;)</pre></div></div></div><div class=\"sk-parallel\"><div class=\"sk-parallel-item\"><div class=\"sk-item\"><div class=\"sk-label-container\"><div class=\"sk-label sk-toggleable\"><input class=\"sk-toggleable__control sk-hidden--visually\" id=\"sk-estimator-id-3\" type=\"checkbox\" ><label for=\"sk-estimator-id-3\" class=\"sk-toggleable__label sk-toggleable__label-arrow\">estimator: DecisionTreeClassifier</label><div class=\"sk-toggleable__content\"><pre>DecisionTreeClassifier(random_state=123)</pre></div></div></div><div class=\"sk-serial\"><div class=\"sk-item\"><div class=\"sk-estimator sk-toggleable\"><input class=\"sk-toggleable__control sk-hidden--visually\" id=\"sk-estimator-id-4\" type=\"checkbox\" ><label for=\"sk-estimator-id-4\" class=\"sk-toggleable__label sk-toggleable__label-arrow\">DecisionTreeClassifier</label><div class=\"sk-toggleable__content\"><pre>DecisionTreeClassifier(random_state=123)</pre></div></div></div></div></div></div></div></div></div></div>"
      ],
      "text/plain": [
       "GridSearchCV(cv=10, estimator=DecisionTreeClassifier(random_state=123),\n",
       "             param_grid={'ccp_alpha': range(0, 5), 'max_depth': range(1, 20),\n",
       "                         'max_features': ['sqrt', 'log2']},\n",
       "             scoring='accuracy')"
      ]
     },
     "execution_count": 41,
     "metadata": {},
     "output_type": "execute_result"
    }
   ],
   "source": [
    "# Grid de parámetros evaluados\n",
    "# ------------------------------------------------------------------------------\n",
    "param_grid = {\n",
    "              'max_depth'   : range(1,20),\n",
    "              'max_features': ['sqrt', 'log2'],\n",
    "              'ccp_alpha'   : range(0,5)\n",
    "         }\n",
    "\n",
    "# Búsqueda por validación cruzada\n",
    "# ------------------------------------------------------------------------------\n",
    "grid = GridSearchCV(\n",
    "        \n",
    "        estimator = DecisionTreeClassifier(\n",
    "                            min_samples_split = 2,\n",
    "                            min_samples_leaf  = 1,\n",
    "                            random_state      = 123\n",
    "                       ),\n",
    "        param_grid = param_grid,\n",
    "        scoring    = 'accuracy',\n",
    "        cv         = 10,\n",
    "        refit      = True,\n",
    "      )\n",
    "\n",
    "grid.fit(X_train, y_train)"
   ]
  },
  {
   "cell_type": "code",
   "execution_count": 42,
   "id": "333e8830",
   "metadata": {},
   "outputs": [
    {
     "data": {
      "text/plain": [
       "{'ccp_alpha': 0, 'max_depth': 4, 'max_features': 'sqrt'}"
      ]
     },
     "execution_count": 42,
     "metadata": {},
     "output_type": "execute_result"
    }
   ],
   "source": [
    "# Mejores parámetros encontrados\n",
    "# ------------------------------------------------------------------------------\n",
    "grid.best_params_"
   ]
  },
  {
   "cell_type": "code",
   "execution_count": 43,
   "id": "ae47c1d3",
   "metadata": {},
   "outputs": [
    {
     "name": "stdout",
     "output_type": "stream",
     "text": [
      "Profundidad del árbol: 4\n",
      "Número de nodos terminales: 6\n"
     ]
    },
    {
     "data": {
      "image/png": "[encoded data removed]",
      "text/plain": [
       "<Figure size 864x576 with 1 Axes>"
      ]
     },
     "metadata": {
      "needs_background": "light"
     },
     "output_type": "display_data"
    }
   ],
   "source": [
    "# Estructura del árbol final\n",
    "# ------------------------------------------------------------------------------\n",
    "modelo_f = grid.best_estimator_\n",
    "print(f'Profundidad del árbol: {modelo_f.get_depth()}')\n",
    "print(f'Número de nodos terminales: {modelo_f.get_n_leaves()}')\n",
    "\n",
    "# Grafica del árbol creado\n",
    "# ------------------------------------------------------------------------------\n",
    "fig, ax = plt.subplots(figsize = (12, 8))\n",
    "\n",
    "plot = plot_tree(\n",
    "            decision_tree = modelo_f,\n",
    "            feature_names = df.columns.to_list(),\n",
    "            class_names   = ('L', 'C','I','A'),\n",
    "            filled        = True,\n",
    "            impurity      = False,\n",
    "            fontsize      = 10,\n",
    "            ax            = ax\n",
    "       )\n",
    "\n",
    "plt.tight_layout()\n",
    "plt.show()"
   ]
  },
  {
   "cell_type": "code",
   "execution_count": 44,
   "id": "8aaf0b2d",
   "metadata": {},
   "outputs": [
    {
     "name": "stdout",
     "output_type": "stream",
     "text": [
      "El accuracy de test es: 75.0 %\n"
     ]
    }
   ],
   "source": [
    "# Accuracy del modelo final\n",
    "#-------------------------------------------------------------------------------\n",
    "predicciones2 = modelo_f.predict(X = X_test)\n",
    "\n",
    "accuracy2 = accuracy_score(\n",
    "            y_true    = y_test,\n",
    "            y_pred    = predicciones2,\n",
    "            normalize = True\n",
    "           )\n",
    "print(f'El accuracy de test es: {100 * accuracy2} %')"
   ]
  },
  {
   "cell_type": "markdown",
   "id": "25d525e8",
   "metadata": {},
   "source": [
    "Efectivamente se ha logrado mejorar los resultados a un 75% de accuracy, versus el 62,5% del modelo inicial.\n",
    "\n",
    "Se procede a revisar la importancia de predictores del modelo."
   ]
  },
  {
   "cell_type": "code",
   "execution_count": 45,
   "id": "3396cc18",
   "metadata": {
    "scrolled": false
   },
   "outputs": [
    {
     "name": "stdout",
     "output_type": "stream",
     "text": [
      "Importancia de los predictores en el modelo\n",
      "-------------------------------------------\n"
     ]
    },
    {
     "data": {
      "text/html": [
       "<div>\n",
       "<style scoped>\n",
       "    .dataframe tbody tr th:only-of-type {\n",
       "        vertical-align: middle;\n",
       "    }\n",
       "\n",
       "    .dataframe tbody tr th {\n",
       "        vertical-align: top;\n",
       "    }\n",
       "\n",
       "    .dataframe thead th {\n",
       "        text-align: right;\n",
       "    }\n",
       "</style>\n",
       "<table border=\"1\" class=\"dataframe\">\n",
       "  <thead>\n",
       "    <tr style=\"text-align: right;\">\n",
       "      <th></th>\n",
       "      <th>predictor</th>\n",
       "      <th>importancia</th>\n",
       "    </tr>\n",
       "  </thead>\n",
       "  <tbody>\n",
       "    <tr>\n",
       "      <th>3</th>\n",
       "      <td>Ca</td>\n",
       "      <td>0.569307</td>\n",
       "    </tr>\n",
       "    <tr>\n",
       "      <th>4</th>\n",
       "      <td>Na</td>\n",
       "      <td>0.297030</td>\n",
       "    </tr>\n",
       "    <tr>\n",
       "      <th>1</th>\n",
       "      <td>Fe</td>\n",
       "      <td>0.089109</td>\n",
       "    </tr>\n",
       "    <tr>\n",
       "      <th>2</th>\n",
       "      <td>Mg</td>\n",
       "      <td>0.044554</td>\n",
       "    </tr>\n",
       "    <tr>\n",
       "      <th>0</th>\n",
       "      <td>Al</td>\n",
       "      <td>0.000000</td>\n",
       "    </tr>\n",
       "  </tbody>\n",
       "</table>\n",
       "</div>"
      ],
      "text/plain": [
       "  predictor  importancia\n",
       "3        Ca     0.569307\n",
       "4        Na     0.297030\n",
       "1        Fe     0.089109\n",
       "2        Mg     0.044554\n",
       "0        Al     0.000000"
      ]
     },
     "execution_count": 45,
     "metadata": {},
     "output_type": "execute_result"
    }
   ],
   "source": [
    "print('Importancia de los predictores en el modelo')\n",
    "print('-------------------------------------------')\n",
    "importancia_predictores = pd.DataFrame(\n",
    "                            {'predictor': df.columns.tolist(),\n",
    "                             'importancia': modelo_f.feature_importances_}\n",
    "                            )\n",
    "importancia_predictores.sort_values('importancia', ascending=False)"
   ]
  },
  {
   "cell_type": "markdown",
   "id": "c4bddb26",
   "metadata": {},
   "source": [
    "Los principales predictores que influyen en el modelo son `Ca`, `Na`, y `Fe`.\n",
    "\n",
    "Se procede a realizar una ronda de 7 predicciones, con sus respectivas probabilidades."
   ]
  },
  {
   "cell_type": "code",
   "execution_count": 46,
   "id": "750e7751",
   "metadata": {},
   "outputs": [
    {
     "data": {
      "text/plain": [
       "array([[0., 0., 1., 0.],\n",
       "       [1., 0., 0., 0.],\n",
       "       [1., 0., 0., 0.],\n",
       "       [1., 0., 0., 0.],\n",
       "       [0., 0., 1., 0.],\n",
       "       [1., 0., 0., 0.],\n",
       "       [0., 0., 1., 0.]])"
      ]
     },
     "execution_count": 46,
     "metadata": {},
     "output_type": "execute_result"
    }
   ],
   "source": [
    "# Predicción de probabilidades para 7 predicciones\n",
    "#-------------------------------------------------------------------------------\n",
    "predicciones_p = modelo_f.predict_proba(X = X_test)\n",
    "predicciones_p[:7, :]"
   ]
  },
  {
   "cell_type": "markdown",
   "id": "ff5decbf",
   "metadata": {},
   "source": [
    "### 3. Random Forest"
   ]
  },
  {
   "cell_type": "markdown",
   "id": "c4b01787",
   "metadata": {},
   "source": [
    "Se realiza un modelado por Random Forest, considerando una busqueda de hiperparámetros por grid search."
   ]
  },
  {
   "cell_type": "code",
   "execution_count": 47,
   "id": "b6507b26",
   "metadata": {},
   "outputs": [
    {
     "name": "stdout",
     "output_type": "stream",
     "text": [
      "Modelo: {'criterion': 'gini', 'max_depth': None, 'max_features': 2, 'n_estimators': 150} ✓\n",
      "Modelo: {'criterion': 'gini', 'max_depth': None, 'max_features': 3, 'n_estimators': 150} ✓\n",
      "Modelo: {'criterion': 'gini', 'max_depth': None, 'max_features': 5, 'n_estimators': 150} ✓\n",
      "Modelo: {'criterion': 'gini', 'max_depth': 5, 'max_features': 2, 'n_estimators': 150} ✓\n",
      "Modelo: {'criterion': 'gini', 'max_depth': 5, 'max_features': 3, 'n_estimators': 150} ✓\n",
      "Modelo: {'criterion': 'gini', 'max_depth': 5, 'max_features': 5, 'n_estimators': 150} ✓\n",
      "Modelo: {'criterion': 'gini', 'max_depth': 10, 'max_features': 2, 'n_estimators': 150} ✓\n",
      "Modelo: {'criterion': 'gini', 'max_depth': 10, 'max_features': 3, 'n_estimators': 150} ✓\n",
      "Modelo: {'criterion': 'gini', 'max_depth': 10, 'max_features': 5, 'n_estimators': 150} ✓\n",
      "Modelo: {'criterion': 'entropy', 'max_depth': None, 'max_features': 2, 'n_estimators': 150} ✓\n",
      "Modelo: {'criterion': 'entropy', 'max_depth': None, 'max_features': 3, 'n_estimators': 150} ✓\n",
      "Modelo: {'criterion': 'entropy', 'max_depth': None, 'max_features': 5, 'n_estimators': 150} ✓\n",
      "Modelo: {'criterion': 'entropy', 'max_depth': 5, 'max_features': 2, 'n_estimators': 150} ✓\n",
      "Modelo: {'criterion': 'entropy', 'max_depth': 5, 'max_features': 3, 'n_estimators': 150} ✓\n",
      "Modelo: {'criterion': 'entropy', 'max_depth': 5, 'max_features': 5, 'n_estimators': 150} ✓\n",
      "Modelo: {'criterion': 'entropy', 'max_depth': 10, 'max_features': 2, 'n_estimators': 150} ✓\n",
      "Modelo: {'criterion': 'entropy', 'max_depth': 10, 'max_features': 3, 'n_estimators': 150} ✓\n",
      "Modelo: {'criterion': 'entropy', 'max_depth': 10, 'max_features': 5, 'n_estimators': 150} ✓\n"
     ]
    }
   ],
   "source": [
    "# Grid de hiperparámetros evaluados de acuerdo a condiciones preestablecidas\n",
    "# ------------------------------------------------------------------------------\n",
    "param_grid = ParameterGrid(\n",
    "                {'n_estimators': [150],\n",
    "                 'max_features': [2, 3, 5],\n",
    "                 'max_depth'   : [None, 5, 10],\n",
    "                 'criterion'   : ['gini', 'entropy']\n",
    "                }\n",
    "            )\n",
    "\n",
    "# Loop para ajustar un modelo con cada combinación de hiperparámetros\n",
    "# ------------------------------------------------------------------------------\n",
    "resultados = {'params': [], 'oob_accuracy': []}\n",
    "\n",
    "for params in param_grid:\n",
    "    \n",
    "    modelo = RandomForestClassifier(\n",
    "                oob_score    = True,\n",
    "                n_jobs       = -1,\n",
    "                random_state = 123,\n",
    "                ** params\n",
    "    )\n",
    "    modelo.fit(X_train, y_train)\n",
    "    \n",
    "    resultados['params'].append(params)\n",
    "    resultados['oob_accuracy'].append(modelo.oob_score_)\n",
    "    print(f\"Modelo: {params} \\u2713\")\n"
   ]
  },
  {
   "cell_type": "markdown",
   "id": "cb0c745d",
   "metadata": {},
   "source": [
    "A continuación se revisan los mejores resultados obtenidos."
   ]
  },
  {
   "cell_type": "code",
   "execution_count": 48,
   "id": "70643e2b",
   "metadata": {
    "scrolled": true
   },
   "outputs": [
    {
     "data": {
      "text/html": [
       "<div>\n",
       "<style scoped>\n",
       "    .dataframe tbody tr th:only-of-type {\n",
       "        vertical-align: middle;\n",
       "    }\n",
       "\n",
       "    .dataframe tbody tr th {\n",
       "        vertical-align: top;\n",
       "    }\n",
       "\n",
       "    .dataframe thead th {\n",
       "        text-align: right;\n",
       "    }\n",
       "</style>\n",
       "<table border=\"1\" class=\"dataframe\">\n",
       "  <thead>\n",
       "    <tr style=\"text-align: right;\">\n",
       "      <th></th>\n",
       "      <th>oob_accuracy</th>\n",
       "      <th>criterion</th>\n",
       "      <th>max_depth</th>\n",
       "      <th>max_features</th>\n",
       "      <th>n_estimators</th>\n",
       "    </tr>\n",
       "  </thead>\n",
       "  <tbody>\n",
       "    <tr>\n",
       "      <th>9</th>\n",
       "      <td>0.777778</td>\n",
       "      <td>entropy</td>\n",
       "      <td>NaN</td>\n",
       "      <td>2</td>\n",
       "      <td>150</td>\n",
       "    </tr>\n",
       "    <tr>\n",
       "      <th>15</th>\n",
       "      <td>0.777778</td>\n",
       "      <td>entropy</td>\n",
       "      <td>10.0</td>\n",
       "      <td>2</td>\n",
       "      <td>150</td>\n",
       "    </tr>\n",
       "    <tr>\n",
       "      <th>12</th>\n",
       "      <td>0.777778</td>\n",
       "      <td>entropy</td>\n",
       "      <td>5.0</td>\n",
       "      <td>2</td>\n",
       "      <td>150</td>\n",
       "    </tr>\n",
       "    <tr>\n",
       "      <th>1</th>\n",
       "      <td>0.722222</td>\n",
       "      <td>gini</td>\n",
       "      <td>NaN</td>\n",
       "      <td>3</td>\n",
       "      <td>150</td>\n",
       "    </tr>\n",
       "    <tr>\n",
       "      <th>16</th>\n",
       "      <td>0.722222</td>\n",
       "      <td>entropy</td>\n",
       "      <td>10.0</td>\n",
       "      <td>3</td>\n",
       "      <td>150</td>\n",
       "    </tr>\n",
       "  </tbody>\n",
       "</table>\n",
       "</div>"
      ],
      "text/plain": [
       "    oob_accuracy criterion  max_depth  max_features  n_estimators\n",
       "9       0.777778   entropy        NaN             2           150\n",
       "15      0.777778   entropy       10.0             2           150\n",
       "12      0.777778   entropy        5.0             2           150\n",
       "1       0.722222      gini        NaN             3           150\n",
       "16      0.722222   entropy       10.0             3           150"
      ]
     },
     "execution_count": 48,
     "metadata": {},
     "output_type": "execute_result"
    }
   ],
   "source": [
    "# Visualización de Resultados\n",
    "# ------------------------------------------------------------------------------\n",
    "\n",
    "resultados = pd.DataFrame(resultados)\n",
    "resultados = pd.concat([resultados, resultados['params'].apply(pd.Series)], axis=1)\n",
    "resultados = resultados.sort_values('oob_accuracy', ascending=False)\n",
    "resultados = resultados.drop(columns = 'params')\n",
    "resultados.head()"
   ]
  },
  {
   "cell_type": "markdown",
   "id": "300418a6",
   "metadata": {},
   "source": [
    "En la busqueda del mejor modelo, se realiza un grid search con validación cruzada."
   ]
  },
  {
   "cell_type": "code",
   "execution_count": 49,
   "id": "fe216181",
   "metadata": {},
   "outputs": [
    {
     "data": {
      "text/html": [
       "<style>#sk-container-id-3 {color: black;background-color: white;}#sk-container-id-3 pre{padding: 0;}#sk-container-id-3 div.sk-toggleable {background-color: white;}#sk-container-id-3 label.sk-toggleable__label {cursor: pointer;display: block;width: 100%;margin-bottom: 0;padding: 0.3em;box-sizing: border-box;text-align: center;}#sk-container-id-3 label.sk-toggleable__label-arrow:before {content: \"▸\";float: left;margin-right: 0.25em;color: #696969;}#sk-container-id-3 label.sk-toggleable__label-arrow:hover:before {color: black;}#sk-container-id-3 div.sk-estimator:hover label.sk-toggleable__label-arrow:before {color: black;}#sk-container-id-3 div.sk-toggleable__content {max-height: 0;max-width: 0;overflow: hidden;text-align: left;background-color: #f0f8ff;}#sk-container-id-3 div.sk-toggleable__content pre {margin: 0.2em;color: black;border-radius: 0.25em;background-color: #f0f8ff;}#sk-container-id-3 input.sk-toggleable__control:checked~div.sk-toggleable__content {max-height: 200px;max-width: 100%;overflow: auto;}#sk-container-id-3 input.sk-toggleable__control:checked~label.sk-toggleable__label-arrow:before {content: \"▾\";}#sk-container-id-3 div.sk-estimator input.sk-toggleable__control:checked~label.sk-toggleable__label {background-color: #d4ebff;}#sk-container-id-3 div.sk-label input.sk-toggleable__control:checked~label.sk-toggleable__label {background-color: #d4ebff;}#sk-container-id-3 input.sk-hidden--visually {border: 0;clip: rect(1px 1px 1px 1px);clip: rect(1px, 1px, 1px, 1px);height: 1px;margin: -1px;overflow: hidden;padding: 0;position: absolute;width: 1px;}#sk-container-id-3 div.sk-estimator {font-family: monospace;background-color: #f0f8ff;border: 1px dotted black;border-radius: 0.25em;box-sizing: border-box;margin-bottom: 0.5em;}#sk-container-id-3 div.sk-estimator:hover {background-color: #d4ebff;}#sk-container-id-3 div.sk-parallel-item::after {content: \"\";width: 100%;border-bottom: 1px solid gray;flex-grow: 1;}#sk-container-id-3 div.sk-label:hover label.sk-toggleable__label {background-color: #d4ebff;}#sk-container-id-3 div.sk-serial::before {content: \"\";position: absolute;border-left: 1px solid gray;box-sizing: border-box;top: 0;bottom: 0;left: 50%;z-index: 0;}#sk-container-id-3 div.sk-serial {display: flex;flex-direction: column;align-items: center;background-color: white;padding-right: 0.2em;padding-left: 0.2em;position: relative;}#sk-container-id-3 div.sk-item {position: relative;z-index: 1;}#sk-container-id-3 div.sk-parallel {display: flex;align-items: stretch;justify-content: center;background-color: white;position: relative;}#sk-container-id-3 div.sk-item::before, #sk-container-id-3 div.sk-parallel-item::before {content: \"\";position: absolute;border-left: 1px solid gray;box-sizing: border-box;top: 0;bottom: 0;left: 50%;z-index: -1;}#sk-container-id-3 div.sk-parallel-item {display: flex;flex-direction: column;z-index: 1;position: relative;background-color: white;}#sk-container-id-3 div.sk-parallel-item:first-child::after {align-self: flex-end;width: 50%;}#sk-container-id-3 div.sk-parallel-item:last-child::after {align-self: flex-start;width: 50%;}#sk-container-id-3 div.sk-parallel-item:only-child::after {width: 0;}#sk-container-id-3 div.sk-dashed-wrapped {border: 1px dashed gray;margin: 0 0.4em 0.5em 0.4em;box-sizing: border-box;padding-bottom: 0.4em;background-color: white;}#sk-container-id-3 div.sk-label label {font-family: monospace;font-weight: bold;display: inline-block;line-height: 1.2em;}#sk-container-id-3 div.sk-label-container {text-align: center;}#sk-container-id-3 div.sk-container {/* jupyter's `normalize.less` sets `[hidden] { display: none; }` but bootstrap.min.css set `[hidden] { display: none !important; }` so we also need the `!important` here to be able to override the default hidden behavior on the sphinx rendered scikit-learn.org. See: https://github.com/scikit-learn/scikit-learn/issues/21755 */display: inline-block !important;position: relative;}#sk-container-id-3 div.sk-text-repr-fallback {display: none;}</style><div id=\"sk-container-id-3\" class=\"sk-top-container\"><div class=\"sk-text-repr-fallback\"><pre>GridSearchCV(cv=RepeatedKFold(n_repeats=3, n_splits=5, random_state=123),\n",
       "             estimator=RandomForestClassifier(random_state=123),\n",
       "             param_grid={&#x27;criterion&#x27;: [&#x27;gini&#x27;, &#x27;entropy&#x27;],\n",
       "                         &#x27;max_depth&#x27;: [2, 3, 4, 5, 7],\n",
       "                         &#x27;max_features&#x27;: [3, 5, 7], &#x27;n_estimators&#x27;: [150]},\n",
       "             return_train_score=True, scoring=&#x27;accuracy&#x27;)</pre><b>In a Jupyter environment, please rerun this cell to show the HTML representation or trust the notebook. <br />On GitHub, the HTML representation is unable to render, please try loading this page with nbviewer.org.</b></div><div class=\"sk-container\" hidden><div class=\"sk-item sk-dashed-wrapped\"><div class=\"sk-label-container\"><div class=\"sk-label sk-toggleable\"><input class=\"sk-toggleable__control sk-hidden--visually\" id=\"sk-estimator-id-5\" type=\"checkbox\" ><label for=\"sk-estimator-id-5\" class=\"sk-toggleable__label sk-toggleable__label-arrow\">GridSearchCV</label><div class=\"sk-toggleable__content\"><pre>GridSearchCV(cv=RepeatedKFold(n_repeats=3, n_splits=5, random_state=123),\n",
       "             estimator=RandomForestClassifier(random_state=123),\n",
       "             param_grid={&#x27;criterion&#x27;: [&#x27;gini&#x27;, &#x27;entropy&#x27;],\n",
       "                         &#x27;max_depth&#x27;: [2, 3, 4, 5, 7],\n",
       "                         &#x27;max_features&#x27;: [3, 5, 7], &#x27;n_estimators&#x27;: [150]},\n",
       "             return_train_score=True, scoring=&#x27;accuracy&#x27;)</pre></div></div></div><div class=\"sk-parallel\"><div class=\"sk-parallel-item\"><div class=\"sk-item\"><div class=\"sk-label-container\"><div class=\"sk-label sk-toggleable\"><input class=\"sk-toggleable__control sk-hidden--visually\" id=\"sk-estimator-id-6\" type=\"checkbox\" ><label for=\"sk-estimator-id-6\" class=\"sk-toggleable__label sk-toggleable__label-arrow\">estimator: RandomForestClassifier</label><div class=\"sk-toggleable__content\"><pre>RandomForestClassifier(random_state=123)</pre></div></div></div><div class=\"sk-serial\"><div class=\"sk-item\"><div class=\"sk-estimator sk-toggleable\"><input class=\"sk-toggleable__control sk-hidden--visually\" id=\"sk-estimator-id-7\" type=\"checkbox\" ><label for=\"sk-estimator-id-7\" class=\"sk-toggleable__label sk-toggleable__label-arrow\">RandomForestClassifier</label><div class=\"sk-toggleable__content\"><pre>RandomForestClassifier(random_state=123)</pre></div></div></div></div></div></div></div></div></div></div>"
      ],
      "text/plain": [
       "GridSearchCV(cv=RepeatedKFold(n_repeats=3, n_splits=5, random_state=123),\n",
       "             estimator=RandomForestClassifier(random_state=123),\n",
       "             param_grid={'criterion': ['gini', 'entropy'],\n",
       "                         'max_depth': [2, 3, 4, 5, 7],\n",
       "                         'max_features': [3, 5, 7], 'n_estimators': [150]},\n",
       "             return_train_score=True, scoring='accuracy')"
      ]
     },
     "execution_count": 49,
     "metadata": {},
     "output_type": "execute_result"
    }
   ],
   "source": [
    "# Grid de hiperparámetros evaluados\n",
    "# ------------------------------------------------------------------------------\n",
    "param_grid = {'n_estimators': [150],\n",
    "              'max_features': [3, 5, 7],\n",
    "              'max_depth'   : [2, 3, 4, 5, 7],\n",
    "              'criterion'   : ['gini', 'entropy']\n",
    "             }\n",
    "\n",
    "# Búsqueda por grid search con validación cruzada\n",
    "# ------------------------------------------------------------------------------\n",
    "grid = GridSearchCV(\n",
    "        estimator  = RandomForestClassifier(random_state = 123),\n",
    "        param_grid = param_grid,\n",
    "        scoring    = 'accuracy',\n",
    "        cv         = RepeatedKFold(n_splits     = 5 , \n",
    "                                   n_repeats    = 3, \n",
    "                                   random_state = 123), \n",
    "        refit      = True,\n",
    "        verbose    = 0,\n",
    "        return_train_score = True\n",
    "       )\n",
    "\n",
    "grid.fit(X = X_train, y = y_train)\n"
   ]
  },
  {
   "cell_type": "code",
   "execution_count": 50,
   "id": "62547105",
   "metadata": {},
   "outputs": [
    {
     "data": {
      "text/html": [
       "<div>\n",
       "<style scoped>\n",
       "    .dataframe tbody tr th:only-of-type {\n",
       "        vertical-align: middle;\n",
       "    }\n",
       "\n",
       "    .dataframe tbody tr th {\n",
       "        vertical-align: top;\n",
       "    }\n",
       "\n",
       "    .dataframe thead th {\n",
       "        text-align: right;\n",
       "    }\n",
       "</style>\n",
       "<table border=\"1\" class=\"dataframe\">\n",
       "  <thead>\n",
       "    <tr style=\"text-align: right;\">\n",
       "      <th></th>\n",
       "      <th>param_criterion</th>\n",
       "      <th>param_max_depth</th>\n",
       "      <th>param_max_features</th>\n",
       "      <th>param_n_estimators</th>\n",
       "      <th>mean_test_score</th>\n",
       "      <th>std_test_score</th>\n",
       "      <th>mean_train_score</th>\n",
       "      <th>std_train_score</th>\n",
       "    </tr>\n",
       "  </thead>\n",
       "  <tbody>\n",
       "    <tr>\n",
       "      <th>29</th>\n",
       "      <td>entropy</td>\n",
       "      <td>7</td>\n",
       "      <td>7</td>\n",
       "      <td>150</td>\n",
       "      <td>0.655556</td>\n",
       "      <td>0.245075</td>\n",
       "      <td>1.0</td>\n",
       "      <td>0.0</td>\n",
       "    </tr>\n",
       "    <tr>\n",
       "      <th>24</th>\n",
       "      <td>entropy</td>\n",
       "      <td>5</td>\n",
       "      <td>3</td>\n",
       "      <td>150</td>\n",
       "      <td>0.655556</td>\n",
       "      <td>0.245075</td>\n",
       "      <td>1.0</td>\n",
       "      <td>0.0</td>\n",
       "    </tr>\n",
       "    <tr>\n",
       "      <th>22</th>\n",
       "      <td>entropy</td>\n",
       "      <td>4</td>\n",
       "      <td>5</td>\n",
       "      <td>150</td>\n",
       "      <td>0.655556</td>\n",
       "      <td>0.245075</td>\n",
       "      <td>1.0</td>\n",
       "      <td>0.0</td>\n",
       "    </tr>\n",
       "    <tr>\n",
       "      <th>21</th>\n",
       "      <td>entropy</td>\n",
       "      <td>4</td>\n",
       "      <td>3</td>\n",
       "      <td>150</td>\n",
       "      <td>0.655556</td>\n",
       "      <td>0.245075</td>\n",
       "      <td>1.0</td>\n",
       "      <td>0.0</td>\n",
       "    </tr>\n",
       "    <tr>\n",
       "      <th>20</th>\n",
       "      <td>entropy</td>\n",
       "      <td>3</td>\n",
       "      <td>7</td>\n",
       "      <td>150</td>\n",
       "      <td>0.655556</td>\n",
       "      <td>0.245075</td>\n",
       "      <td>1.0</td>\n",
       "      <td>0.0</td>\n",
       "    </tr>\n",
       "  </tbody>\n",
       "</table>\n",
       "</div>"
      ],
      "text/plain": [
       "   param_criterion param_max_depth param_max_features param_n_estimators  \\\n",
       "29         entropy               7                  7                150   \n",
       "24         entropy               5                  3                150   \n",
       "22         entropy               4                  5                150   \n",
       "21         entropy               4                  3                150   \n",
       "20         entropy               3                  7                150   \n",
       "\n",
       "    mean_test_score  std_test_score  mean_train_score  std_train_score  \n",
       "29         0.655556        0.245075               1.0              0.0  \n",
       "24         0.655556        0.245075               1.0              0.0  \n",
       "22         0.655556        0.245075               1.0              0.0  \n",
       "21         0.655556        0.245075               1.0              0.0  \n",
       "20         0.655556        0.245075               1.0              0.0  "
      ]
     },
     "execution_count": 50,
     "metadata": {},
     "output_type": "execute_result"
    }
   ],
   "source": [
    "# Visualización de Resultados\n",
    "# ------------------------------------------------------------------------------\n",
    "resultados = pd.DataFrame(grid.cv_results_)\n",
    "resultados.filter(regex = '(param*|mean_t|std_t)') \\\n",
    "    .drop(columns = 'params') \\\n",
    "    .sort_values('mean_test_score', ascending = False) \\\n",
    "    .head()"
   ]
  },
  {
   "cell_type": "code",
   "execution_count": 51,
   "id": "8c3d2c7c",
   "metadata": {},
   "outputs": [],
   "source": [
    "modelo_final = grid.best_estimator_"
   ]
  },
  {
   "cell_type": "code",
   "execution_count": 52,
   "id": "a35a35fd",
   "metadata": {},
   "outputs": [
    {
     "data": {
      "text/plain": [
       "array([4, 1, 1, 1, 4, 1, 3, 4])"
      ]
     },
     "execution_count": 52,
     "metadata": {},
     "output_type": "execute_result"
    }
   ],
   "source": [
    "# Error de test del modelo final\n",
    "# ------------------------------------------------------------------------------\n",
    "predicciones = modelo_final.predict(X = X_test)\n",
    "predicciones[:10]"
   ]
  },
  {
   "cell_type": "code",
   "execution_count": 53,
   "id": "3e607dfa",
   "metadata": {},
   "outputs": [
    {
     "name": "stdout",
     "output_type": "stream",
     "text": [
      "Matriz de confusión\n",
      "-------------------\n",
      "[[4 0 0]\n",
      " [0 1 1]\n",
      " [0 0 2]]\n",
      "\n",
      "El accuracy de test es: 87.5 %\n"
     ]
    }
   ],
   "source": [
    "# Matriz de confusión\n",
    "# ------------------------------------------------------------------------------\n",
    "mat_confusion = confusion_matrix(\n",
    "                    y_true = y_test,\n",
    "                    y_pred = predicciones\n",
    "                    )\n",
    "\n",
    "accuracy = accuracy_score(\n",
    "            y_true    = y_test,\n",
    "            y_pred    = predicciones,\n",
    "            normalize = True\n",
    "           )\n",
    "\n",
    "\n",
    "print(\"Matriz de confusión\")\n",
    "print(\"-------------------\")\n",
    "print(mat_confusion)\n",
    "print(\"\")\n",
    "print(f\"El accuracy de test es: {100 * accuracy} %\")"
   ]
  },
  {
   "cell_type": "markdown",
   "id": "76cef43b",
   "metadata": {},
   "source": [
    "Finalmente, el accuracy obtenido es del 87.5%, superando así lo obtenido por modelos anteriores, por lo que se decide optar por el uso de este último modelo."
   ]
  },
  {
   "cell_type": "markdown",
   "id": "c4d7f2cc",
   "metadata": {},
   "source": [
    "# Referencias\n",
    "\n",
    "* PARDO, Mateo. Clustering. Nation Research Council (CNR) , Berlín Alemania, Disponible en: http://lectures.molgen.mpg.de/algsysbio10/clustering.pdf\n",
    "\n",
    "* Scipy cluster docs https://docs.scipy.org/\n",
    "\n",
    "* Vallat, R. (2018). Pingouin: statistics in Python. Journal of Open Source Software, 3(31), 1026, https://doi.org/10.21105/joss.01026"
   ]
  }
 ],
 "metadata": {
  "kernelspec": {
   "display_name": "Python 3 (ipykernel)",
   "language": "python",
   "name": "python3"
  },
  "language_info": {
   "codemirror_mode": {
    "name": "ipython",
    "version": 3
   },
   "file_extension": ".py",
   "mimetype": "text/x-python",
   "name": "python",
   "nbconvert_exporter": "python",
   "pygments_lexer": "ipython3",
   "version": "3.9.7"
  }
 },
 "nbformat": 4,
 "nbformat_minor": 5
}
